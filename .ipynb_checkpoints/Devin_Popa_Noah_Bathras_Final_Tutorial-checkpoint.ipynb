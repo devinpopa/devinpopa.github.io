{
 "cells": [
  {
   "cell_type": "markdown",
   "metadata": {},
   "source": [
    "# Analyzing Box Office Trends for 2018"
   ]
  },
  {
   "cell_type": "markdown",
   "metadata": {},
   "source": [
    "## Devin Popa and Noah Bathras"
   ]
  },
  {
   "cell_type": "markdown",
   "metadata": {},
   "source": [
    "### Introduction"
   ]
  },
  {
   "cell_type": "markdown",
   "metadata": {},
   "source": [
    "As the star power, filming equipment, and post-production effects that make up modern films all improve, the budgets for these movies simultaneously increase dramatically.  This means it can be difficult for directors behind large studio films to make a return on their investment if they do not know what audiences want from movies.  In this project, we will be examining the role of a movie's genre, release date, target audience, and distributor in determining how much money it makes.  Then, we will compare the budgets and earnings of a sample of movies to find out how profitable a movie is based on each of these factors."
   ]
  },
  {
   "cell_type": "markdown",
   "metadata": {},
   "source": [
    "### Data Collection"
   ]
  },
  {
   "cell_type": "markdown",
   "metadata": {},
   "source": [
    "The data we will be using can be found at https://www.the-numbers.com/market/2018/top-grossing-movies.  A request to the site will scrape the data initially, and BeautifulSoup will be used to parse the html of the page.  Several packages in the NumPy stack will be used to visualize and analyze the data."
   ]
  },
  {
   "cell_type": "code",
   "execution_count": 1,
   "metadata": {},
   "outputs": [
    {
     "data": {
      "text/html": [
       "<div>\n",
       "<style scoped>\n",
       "    .dataframe tbody tr th:only-of-type {\n",
       "        vertical-align: middle;\n",
       "    }\n",
       "\n",
       "    .dataframe tbody tr th {\n",
       "        vertical-align: top;\n",
       "    }\n",
       "\n",
       "    .dataframe thead th {\n",
       "        text-align: right;\n",
       "    }\n",
       "</style>\n",
       "<table border=\"1\" class=\"dataframe\">\n",
       "  <thead>\n",
       "    <tr style=\"text-align: right;\">\n",
       "      <th></th>\n",
       "      <th>rank</th>\n",
       "      <th>movie</th>\n",
       "      <th>releaseDate</th>\n",
       "      <th>distributor</th>\n",
       "      <th>genre</th>\n",
       "      <th>rating</th>\n",
       "      <th>annualGross</th>\n",
       "      <th>ticketsSold</th>\n",
       "    </tr>\n",
       "  </thead>\n",
       "  <tbody>\n",
       "    <tr>\n",
       "      <th>1</th>\n",
       "      <td>1</td>\n",
       "      <td>Black Panther</td>\n",
       "      <td>2/16/2018</td>\n",
       "      <td>Walt Disney</td>\n",
       "      <td>Action</td>\n",
       "      <td>PG-13</td>\n",
       "      <td>$700,059,566</td>\n",
       "      <td>78044544</td>\n",
       "    </tr>\n",
       "    <tr>\n",
       "      <th>2</th>\n",
       "      <td>2</td>\n",
       "      <td>Avengers: Infinity War</td>\n",
       "      <td>4/27/2018</td>\n",
       "      <td>Walt Disney</td>\n",
       "      <td>Action</td>\n",
       "      <td>PG-13</td>\n",
       "      <td>$678,815,482</td>\n",
       "      <td>75676196</td>\n",
       "    </tr>\n",
       "    <tr>\n",
       "      <th>3</th>\n",
       "      <td>3</td>\n",
       "      <td>Incredibles 2</td>\n",
       "      <td>6/15/2018</td>\n",
       "      <td>Walt Disney</td>\n",
       "      <td>Adventure</td>\n",
       "      <td>PG</td>\n",
       "      <td>$608,546,638</td>\n",
       "      <td>67842434</td>\n",
       "    </tr>\n",
       "    <tr>\n",
       "      <th>4</th>\n",
       "      <td>4</td>\n",
       "      <td>Jurassic World: Fallen Kingdom</td>\n",
       "      <td>6/22/2018</td>\n",
       "      <td>Universal</td>\n",
       "      <td>Action</td>\n",
       "      <td>PG-13</td>\n",
       "      <td>$416,769,345</td>\n",
       "      <td>46462580</td>\n",
       "    </tr>\n",
       "    <tr>\n",
       "      <th>5</th>\n",
       "      <td>5</td>\n",
       "      <td>Deadpool 2</td>\n",
       "      <td>5/18/2018</td>\n",
       "      <td>20th Century Fox</td>\n",
       "      <td>Action</td>\n",
       "      <td>R</td>\n",
       "      <td>$318,491,426</td>\n",
       "      <td>35506290</td>\n",
       "    </tr>\n",
       "  </tbody>\n",
       "</table>\n",
       "</div>"
      ],
      "text/plain": [
       "  rank                           movie releaseDate       distributor  \\\n",
       "1    1                   Black Panther   2/16/2018       Walt Disney   \n",
       "2    2          Avengers: Infinity War   4/27/2018       Walt Disney   \n",
       "3    3                   Incredibles 2   6/15/2018       Walt Disney   \n",
       "4    4  Jurassic World: Fallen Kingdom   6/22/2018         Universal   \n",
       "5    5                      Deadpool 2   5/18/2018  20th Century Fox   \n",
       "\n",
       "       genre rating   annualGross ticketsSold  \n",
       "1     Action  PG-13  $700,059,566    78044544  \n",
       "2     Action  PG-13  $678,815,482    75676196  \n",
       "3  Adventure     PG  $608,546,638    67842434  \n",
       "4     Action  PG-13  $416,769,345    46462580  \n",
       "5     Action      R  $318,491,426    35506290  "
      ]
     },
     "execution_count": 1,
     "metadata": {},
     "output_type": "execute_result"
    }
   ],
   "source": [
    "# Necessary packages.  Add more as needed.\n",
    "from bs4 import BeautifulSoup\n",
    "import seaborn as sns\n",
    "import pandas as pd\n",
    "import numpy as np\n",
    "import requests\n",
    "import html5lib\n",
    "import lxml     # open a new terminal and pip install lxml before running\n",
    "\n",
    "# Make a request to the website to collect the data as html code.\n",
    "req = requests.get('https://www.the-numbers.com/market/2018/top-grossing-movies')\n",
    "soup = BeautifulSoup(req.text)\n",
    "\n",
    "# Remove all links/tags from the entries\n",
    "table = soup.find('table')\n",
    "for a in table.findAll('a'):\n",
    "    a.replaceWithChildren()\n",
    "\n",
    "# Create a new DataFrame from the table variable\n",
    "df_list = pd.read_html(str(table))\n",
    "movie_df = df_list[0]\n",
    "movie_df.columns = ['rank', 'movie', 'releaseDate', 'distributor', \n",
    "                    'genre', 'rating', 'annualGross', 'ticketsSold']\n",
    "movie_df = movie_df.drop([0, 528, 529])     # drop unnecessary rows\n",
    "movie_df.head()\n",
    "\n",
    "# TODO\n",
    "# 1. Fix weird characters showing up in movie titles\n",
    "# 2. Basically all of the actual shit"
   ]
  },
  {
   "cell_type": "code",
   "execution_count": null,
   "metadata": {},
   "outputs": [],
   "source": []
  }
 ],
 "metadata": {
  "kernelspec": {
   "display_name": "Python 3",
   "language": "python",
   "name": "python3"
  },
  "language_info": {
   "codemirror_mode": {
    "name": "ipython",
    "version": 3
   },
   "file_extension": ".py",
   "mimetype": "text/x-python",
   "name": "python",
   "nbconvert_exporter": "python",
   "pygments_lexer": "ipython3",
   "version": "3.6.3"
  }
 },
 "nbformat": 4,
 "nbformat_minor": 2
}
